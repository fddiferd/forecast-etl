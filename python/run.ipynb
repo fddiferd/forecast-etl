{
 "cells": [
  {
   "cell_type": "code",
   "execution_count": 2,
   "metadata": {},
   "outputs": [],
   "source": [
    "# Imports\n",
    "import pandas as pd\n",
    "import utils\n",
    "import numpy as np"
   ]
  },
  {
   "cell_type": "code",
   "execution_count": 3,
   "metadata": {},
   "outputs": [
    {
     "name": "stdout",
     "output_type": "stream",
     "text": [
      "Initiating login request with your identity provider. A browser window should have opened for you to complete the login. If you can't see it, check existing browser windows, or your OS settings. Press CTRL+C to abort and try again...\n",
      "Going to open: https://peopleconnectus.okta.com/app/snowflake/exkwn80u1dv5jbWlH0x7/sso/saml?SAMLRequest=lZJfb9owFMW%2FSuQ9J7aBtGABFQN1jdYCK3SV9uYkhno4tufrEPrt6%2FBn6h5aaW%2BRc45%2Fx%2Ffc4c2hUtFeOJBGjxBNCIqELkwp9XaEnta3cR9F4LkuuTJajNCrAHQzHgKvlGWT2r%2FoR%2FGnFuCjcJEG1v4YodppZjhIYJpXApgv2GrycM86CWEcQDgfcOhsKUEG1ov3lmHcNE3SdBPjtrhDCMFkgIOqlXxB7xD2c4Z1xpvCqIvlEN70AYJi0msRQREIy7Pxq9SnEXxGyU8iYHfr9TJeLlZrFE0ur5saDXUl3Eq4vSzE0%2BP9KQCEBNCQQXrVTWqIBQcf0wS0aTaK70RhKlv7cGsSvvBGlFiZrQyzymYjZHeyfLjKSW4W2WBK6CIfpPl8nqUcfnA7od%2FlTO%2Bfuc3rb7s03xYo%2BnlpttM2mwHUItNtnz4ckU4vJv2Ypmuasm6fpf2kR69%2FoWgW%2BpSa%2B6PzEtoKY1XIp7UofA2J2Xl%2BDMmtxX%2FzY3HYNbpPalru09%2F5s7ojh2sMYHBbGzptDjsGceP%2FnccQv3efl3AeeslmS6Nk8RrdGldx%2F3FtNKHHE1nGm6OUiYpLNSlLJwBCfUqZZuoE92HXvasFwuMT9d9tH78B&RelayState=49576 to authenticate...\n",
      "Initiating login request with your identity provider. A browser window should have opened for you to complete the login. If you can't see it, check existing browser windows, or your OS settings. Press CTRL+C to abort and try again...\n",
      "Going to open: https://peopleconnectus.okta.com/app/snowflake/exkwn80u1dv5jbWlH0x7/sso/saml?SAMLRequest=lZLdb9owFMX%2Flch7TuxA6IoFVBRWFfVjUaFj6ptJLuDi2KmvQ9L%2Ffg4fU%2FfQSnuLnHP8O77nDq6aQgV7sCiNHpI4YiQAnZlc6s2QPC9uwksSoBM6F8poGJJ3QHI1GqAoVMnHldvqJ3irAF3gL9LI2x9DUlnNjUCJXIsCkLuMz8cP97wTMS4QwTqPIydLjtKzts6VnNK6rqO6Gxm7oR3GGGV96lWt5Bv5gCi%2FZpTWOJMZdbY0%2Fk2fIGLKkhbhFZ6QnozXUh9H8BVldRQhv10s0jD9OV%2BQYHx%2B3cRorAqwc7B7mcHz0%2F0xAPoEWLN%2B76IbVRiCQBfGEWpTr5XYQWaKsnL%2B1sh%2F0TXkVJmN9LOaTYek3Mn8upls%2B%2FPpY7qax%2Ftk9zt71WL59nJ3AfHWdthk2TR3KbLqB0syEvw6N9tpm50hVjDTbZ%2FOH7FOErLLMO4t4h7v9nmSRIx1X0gw9X1KLdzBeQ5dgimVz6c1ZK7CyOycOIQUZUn%2F5qfQ7Gp9yao43%2FdeV0t1y5rvFNHQtjZy3Bx%2BCGJH%2FzuPAf3oPi3ho%2B9lNk2Nktl7cGNsIdzntcVRfDiRebg%2BSDkUQqpxnltA9PUpZeqJBeH8rjtbAaGjI%2FXfbR%2F9AQ%3D%3D&RelayState=49616 to authenticate...\n",
      "Initiating login request with your identity provider. A browser window should have opened for you to complete the login. If you can't see it, check existing browser windows, or your OS settings. Press CTRL+C to abort and try again...\n",
      "Going to open: https://peopleconnectus.okta.com/app/snowflake/exkwn80u1dv5jbWlH0x7/sso/saml?SAMLRequest=lZLdctowEIVfxaNe25KJSYgGyNBQEk%2BTlABpSe6EvRAVWXK1Moa3r8xPJr1IZnrnkc%2FRd7Rnu1fbQgUbsCiN7pE4YiQAnZlc6lWPPM1GYYcE6ITOhTIaemQHSK76XRSFKvmgcq96An8qQBf4izTy5kePVFZzI1Ai16IA5C7j08H9HW9FjAtEsM7jyNGSo%2FSsV%2BdKTmld11F9Fhm7oi3GGGWX1KsayRfyDlF%2BziitcSYz6mTZ%2Bjd9gIgpSxqEV3jC%2BGj8KvVhBJ9RFgcR8tvZbByOf0xnJBicXndtNFYF2CnYjczgaXJ3CIA%2BAdbssn1%2BFlUYgkAXxhFqUy%2BVWENmirJy%2FtbIf9El5FSZlfSzSoc9Uq5lfrEYOfHtJv4%2BuikWj9W9wCzdiXEyzKfnL%2FP0eVJv5nOBG4fPGQl%2BnpptNc2miBWkuunT%2BSPWSkLWCeP2LG7zhPFWHCWd5IUEQ9%2Bn1MLtnafQJZhS%2BXxaQ%2BYqjMzaiX1IUZb0LT%2BF7brWHVbF%2Bab9e%2FFL3bLtBUU0tKmNHDaH74PY%2Fv%2FOo0vfu49L%2BOB7SYdjo2S2C0bGFsJ9XFscxfsTmYfLvZRDIaQa5LkFRF%2BfUqa%2BtiCc33VnKyC0f6D%2Bu%2B39vw%3D%3D&RelayState=49642 to authenticate...\n",
      "Initiating login request with your identity provider. A browser window should have opened for you to complete the login. If you can't see it, check existing browser windows, or your OS settings. Press CTRL+C to abort and try again...\n",
      "Going to open: https://peopleconnectus.okta.com/app/snowflake/exkwn80u1dv5jbWlH0x7/sso/saml?SAMLRequest=lZJfb9owFMW%2FSuQ9J3aAdGABFQO1RepaBLRsezPJhXo4tufrEPrt6%2FBn6h5aaW%2BRc45%2Fx%2Ffc%2FvWhVNEeHEqjByRNGIlA56aQejsgT8ubuEsi9EIXQhkNA%2FIKSK6HfRSlsnxU%2BRc9hz8VoI%2FCRRp582NAKqe5ESiRa1ECcp%2Fzxej7PW8ljAtEcD7gyNlSoAysF%2B8tp7Su66RuJ8ZtaYsxRlmPBlUj%2BULeIeznDOuMN7lRF8shvOkDREpZp0EERSDMzsZvUp9G8BllfRIhv1suZ%2FHscbEk0ejyurHRWJXgFuD2Moen%2Bf0pAIYEWLNedtVOKoxBoI%2FTBLWpN0rsIDelrXy4NQlfdAMFVWYrw6ymkwGxO1mUYtSabefZWqwmj1P2LPRGZJVY%2B9W4627Fw9zK7u3PH3sQu5xEz5dmW02zU8QKprrp04cj1urErBun2TLNeIfxTpq0r3q%2FSDQJfUot%2FNF5CW3BWBXyaQ25rzAxOy%2BOIYW19G9%2BCoddrbusSot99nu9Unfs8JUiGtrURk6bw49B3PB%2F59Gn793nJXwIvUwnM6Nk%2FhrdGFcK%2F3FtaZIeT2QRb45SDqWQalQUDhBDfUqZeuxA%2BLDr3lVA6PBE%2FXfbh28%3D&RelayState=49667 to authenticate...\n",
      "Initiating login request with your identity provider. A browser window should have opened for you to complete the login. If you can't see it, check existing browser windows, or your OS settings. Press CTRL+C to abort and try again...\n",
      "Going to open: https://peopleconnectus.okta.com/app/snowflake/exkwn80u1dv5jbWlH0x7/sso/saml?SAMLRequest=lZLdb9owFMX%2Flch7Tuzw0YIFVKwIFQ06VMIq8WaSC%2FVw7ODrEMpfP4ePqXtopb1Fzjn%2BHd9zew%2FHXAUHsCiN7pM4YiQAnZpM6m2fLJNx2CEBOqEzoYyGPnkHJA%2BDHopcFXxYujf9AvsS0AX%2BIo28%2FtEnpdXcCJTItcgBuUv5Yjib8kbEuEAE6zyOXC0ZSs96c67glFZVFVXNyNgtbTDGKOtSr6ol38gHRPE1o7DGmdSom%2BXo3%2FQJIqasVSO8whPmV%2BN3qS8j%2BIqyvoiQPyXJPJz%2FXCQkGN5e92g0ljnYBdiDTGH5Mr0EQJ8AK9Zt3zWjEkMQ6MI4Qm2qjRI7SE1elM7fGvkvuoGMKrOVflaTUZ8UO5ktZm19GlmxX672z3dZZ7QZ%2Flib8ekEr1Ns7kyyYlaLOI3VLCXBr1uzjbrZCWIJE1336fwRa7RC1gnjdhK3eYvxdjdi990VCUa%2BT6mFOztvoQswhfL5tIbUlRiZnRPnkKIo6N%2F8FI67SndYGWeH9u%2F1q3pix3uKaGhdG7lsDj8HsYP%2FnUePfnRfl%2FDZ9zIZzY2S6XswNjYX7vPa4ig%2Bn8gs3JylHHIh1TDLLCD6%2BpQy1aMF4fyuO1sCoYML9d9tH%2FwB&RelayState=49691 to authenticate...\n"
     ]
    }
   ],
   "source": [
    "file_names = [\n",
    "    'active_subs',\n",
    "    'cross_up_sell',\n",
    "    'dsr',\n",
    "    'gross_adds',\n",
    "    'retention',\n",
    "]\n",
    "\n",
    "for file_name in file_names:\n",
    "    data = utils.get_data(f\"../sql/{file_name}.sql\", {}, False)\n",
    "    data.to_excel(f\"../outputs/{file_name}.xlsx\", index=False)\n"
   ]
  }
 ],
 "metadata": {
  "kernelspec": {
   "display_name": "myenv",
   "language": "python",
   "name": "python3"
  },
  "language_info": {
   "codemirror_mode": {
    "name": "ipython",
    "version": 3
   },
   "file_extension": ".py",
   "mimetype": "text/x-python",
   "name": "python",
   "nbconvert_exporter": "python",
   "pygments_lexer": "ipython3",
   "version": "3.12.4"
  }
 },
 "nbformat": 4,
 "nbformat_minor": 2
}
